{
 "cells": [
  {
   "cell_type": "code",
   "execution_count": 299,
   "metadata": {},
   "outputs": [],
   "source": [
    "import pandas as pd \n",
    "import os \n",
    "import numpy as np "
   ]
  },
  {
   "cell_type": "code",
   "execution_count": 300,
   "metadata": {},
   "outputs": [],
   "source": [
    "centro = '8811456' #input(\"Introduza o centro: \")"
   ]
  },
  {
   "cell_type": "markdown",
   "metadata": {},
   "source": [
    "Importação de ficheiros da pasta FTP"
   ]
  },
  {
   "cell_type": "code",
   "execution_count": 301,
   "metadata": {},
   "outputs": [],
   "source": [
    "\n",
    "\n",
    "folder_path = 'C:\\Users\\903329\\OneDrive - CTT - Correios de Portugal\\Ambiente de Trabalho\\PIT_STOP\\Dados_CO'\n",
    "\n",
    "files = [file for file in os.listdir(folder_path) if os.path.isfile(os.path.join(folder_path, file))]\n",
    "\n",
    "\n",
    "combined_df = pd.DataFrame()\n",
    "\n",
    "\n",
    "for file in files:\n",
    "    file_path = os.path.join(folder_path, file)\n",
    "    \n",
    "    \n",
    "    df = pd.read_csv(file_path, encoding=\"latin-1\", delimiter=';')\n",
    "    \n",
    "    \n",
    "    combined_df = pd.concat([combined_df, df], ignore_index=True)\n",
    "\n"
   ]
  },
  {
   "cell_type": "markdown",
   "metadata": {},
   "source": [
    "selecção do centro e codigo postal "
   ]
  },
  {
   "cell_type": "code",
   "execution_count": 302,
   "metadata": {},
   "outputs": [],
   "source": [
    "# -- limpeza do dataset \n",
    "df = combined_df\n",
    "df.columns=[x.lower().strip() for x in df.columns]\n",
    "df.drop_duplicates()\n",
    "df['centro'] = df['centro'].astype(str)\n",
    "df['centro'] = df['centro'].str.strip()\n",
    "df['giro'] = df['giro'].str.replace(' ', '').str.strip().str[:5]\n",
    "df['cp'] = df['cp'].str.replace(' ', '').str.strip()\n",
    "df['longitude'] = df['longitude'].str.replace('\\n', '').str.strip()\n",
    "df=df[df.latitude != '0']\n",
    "df=df[df.latitude != '0.0']\n",
    "df = df[df['latitude'] != '']\n",
    "df=df[df.cod_t_even == 'I']\n",
    "df = df[df['cp'].str.len() >= 8]"
   ]
  },
  {
   "cell_type": "code",
   "execution_count": 303,
   "metadata": {},
   "outputs": [],
   "source": [
    "df=df[df['centro']==centro]\n"
   ]
  },
  {
   "cell_type": "code",
   "execution_count": 304,
   "metadata": {},
   "outputs": [],
   "source": [
    "# validar os giros que devem ser usados no pit stop\n",
    "\n",
    "giro_unique_ocorrencias = df.groupby('giro')['data_criacao'].nunique().reset_index(name='N_ocorrencias_giro')\n",
    "\n",
    "# Contar o número de ocorrências únicas por 'loptica'\n",
    "loptica_unique_ocorrencias = df.groupby('giro')['loptica'].nunique().reset_index(name='N_ocorrencias_loptica')\n",
    "\n",
    "giros_pit_stop = pd.merge(giro_unique_ocorrencias, loptica_unique_ocorrencias, left_on='giro', right_on='giro', how='inner')"
   ]
  },
  {
   "cell_type": "code",
   "execution_count": null,
   "metadata": {},
   "outputs": [],
   "source": [
    "# downloads_path = os.path.join(os.path.expanduser(\"~\"), \"Downloads\")\n",
    "\n",
    "\n",
    "# file_path = os.path.join(downloads_path, f'{centro}.xlsx')\n",
    "# giros_pit_stop.to_excel(file_path, index=False)\n",
    "\n",
    "# print(f\"File saved at: {file_path}\")"
   ]
  },
  {
   "cell_type": "code",
   "execution_count": 308,
   "metadata": {},
   "outputs": [],
   "source": [
    "# -- considera apenas cp7 que ocorreram várias vezez--#\n",
    "\n",
    "giro_unique_cp7 = df.groupby('cp')['data_criacao'].nunique().reset_index(name='N_Unique_cp7')\n",
    "\n",
    "giro_unique_cp7 = giro_unique_cp7[giro_unique_cp7['N_Unique_cp7'] >= 1]\n",
    "\n",
    "giro_unique_cp7=np.array(giro_unique_cp7['cp'].unique())\n",
    "\n",
    "df = df[df['cp'].isin(giro_unique_cp7)]"
   ]
  },
  {
   "cell_type": "code",
   "execution_count": 309,
   "metadata": {},
   "outputs": [],
   "source": [
    "#-- excluir cp7 efetuados por várias rotas --##\n",
    "\n",
    "unique_routes_by_cp = df.groupby('cp')['giro'].nunique().reset_index(name='Unique_Routes_Count')\n",
    "\n",
    "unique_routes_by_cp = unique_routes_by_cp.sort_values(by='Unique_Routes_Count', ascending=False)\n",
    "\n",
    "unique_routes_by_cp_filtered = unique_routes_by_cp[unique_routes_by_cp['Unique_Routes_Count'] ==1]\n",
    "\n",
    "lista_excl_cp7=np.array(unique_routes_by_cp_filtered['cp'].unique())\n",
    "\n",
    "df = df[df['cp'].isin(lista_excl_cp7)]\n",
    "\n",
    "cp7_unique_counts = df['cp'].value_counts()"
   ]
  },
  {
   "cell_type": "code",
   "execution_count": 310,
   "metadata": {},
   "outputs": [
    {
     "name": "stdout",
     "output_type": "stream",
     "text": [
      "     giro  N_Unique_Data_Criacao\n",
      "72  3100B                      5\n",
      "73  3100G                      5\n",
      "74  3100H                      3\n",
      "75  3100I                      1\n",
      "76  3100J                      5\n",
      "77  3100K                      5\n",
      "78  3100M                      2\n",
      "['3100B' '3100G' '3100H' '3100I' '3100J' '3100K' '3100M']\n"
     ]
    }
   ],
   "source": [
    "# selecção de giros \n",
    "codigo_prestador='3100'\n",
    "codigo_prestador_2=''\n",
    "giros_excluir=['1000A','1000B']\n",
    "\n",
    "giro_unique_counts = df.groupby('giro')['data_criacao'].nunique().reset_index(name='N_Unique_Data_Criacao')\n",
    "\n",
    "giro_unique_counts = giro_unique_counts[\n",
    "    ((giro_unique_counts['giro'].str[:4] == codigo_prestador) |\n",
    "     (giro_unique_counts['giro'].str[:4] == codigo_prestador_2)) &\n",
    "    (~giro_unique_counts['giro'].apply(lambda x: any(x.startswith(prefix) for prefix in giros_excluir)))\n",
    "]\n",
    "\n",
    "\n",
    "\n",
    "giro_unique_counts_average = giro_unique_counts['N_Unique_Data_Criacao'].mean()\n",
    "giro_unique_counts_average\n",
    "\n",
    "giro_unique_counts=giro_unique_counts[giro_unique_counts['N_Unique_Data_Criacao'] > 0]\n",
    "giro_unique_counts\n",
    "\n",
    "print(giro_unique_counts)\n",
    "\n",
    "lista_val_giro=np.array(giro_unique_counts['giro'].unique())\n",
    "\n",
    "print(lista_val_giro)\n",
    "\n",
    "df = df[df['giro'].isin(lista_val_giro)]"
   ]
  },
  {
   "cell_type": "markdown",
   "metadata": {},
   "source": [
    "Dados Sig Postal"
   ]
  },
  {
   "cell_type": "code",
   "execution_count": 311,
   "metadata": {},
   "outputs": [],
   "source": [
    "file_path = 'C:\\Users\\903329\\OneDrive - CTT - Correios de Portugal\\Ambiente de Trabalho\\PIT_STOP\\Dados_SIG'\n",
    "\n",
    "files = [file for file in os.listdir(file_path) if os.path.isfile(os.path.join(file_path, file))]\n",
    "\n",
    "for file in files:\n",
    "\n",
    "    file_path = os.path.join(file_path, file)\n",
    "    df_sig = pd.read_csv(file_path, encoding=\"latin-1\", delimiter=';')\n",
    "    \n"
   ]
  },
  {
   "cell_type": "code",
   "execution_count": 312,
   "metadata": {},
   "outputs": [],
   "source": [
    "filtro_cp4 = np.array(giro_unique_counts['giro'].str[:4].unique())"
   ]
  },
  {
   "cell_type": "code",
   "execution_count": 313,
   "metadata": {},
   "outputs": [],
   "source": [
    "\n",
    "\n",
    "df_sig.columns=[x.lower().strip() for x in df_sig.columns]\n",
    "\n",
    "df_sig = df_sig.apply(lambda x: x.astype(str).str.replace(' ', '').str.strip() if pd.notnull(x.name) else x)\n",
    "\n",
    "df_sig['cp7'] = df_sig['cp7'].astype(str)\n",
    "\n",
    "df_sig['point_x'] = df_sig['point_x'].str.replace('\\n', '').str.strip()\n",
    "df_sig['point_y'] = df_sig['point_y'].str.replace('\\n', '').str.strip()\n",
    "df_sig['point_x'] = df_sig['point_x'].str.replace(',', '.').str.strip()\n",
    "df_sig['point_y'] = df_sig['point_y'].str.replace(',', '.').str.strip()\n",
    "df_sig=df_sig[df_sig.point_x != '0']\n",
    "df_sig=df_sig[df_sig.point_y != '0']\n",
    "df_sig=df_sig[df_sig.point_x != '0.0']\n",
    "df_sig=df_sig[df_sig.point_y != '0.0']\n",
    "df_sig = df_sig[df_sig['point_x'] != '']\n",
    "df_sig = df_sig[df_sig['point_y'] != '']\n",
    "df_sig = df_sig[df_sig['point_x'] != 'nan']\n",
    "df_sig = df_sig[df_sig['point_y'] != 'nan']\n",
    "df_sig = df_sig.dropna()\n"
   ]
  },
  {
   "cell_type": "code",
   "execution_count": 314,
   "metadata": {},
   "outputs": [],
   "source": [
    "df_sig = df_sig[df_sig['cp4'].isin(filtro_cp4)]"
   ]
  },
  {
   "cell_type": "code",
   "execution_count": 315,
   "metadata": {},
   "outputs": [],
   "source": [
    "import pandas as pd\n",
    "\n",
    "\n",
    "df['data_criacao'] = pd.to_datetime(df['data_criacao'], dayfirst=True)\n",
    "\n",
    "result = df.groupby(['cp', 'giro']).size().reset_index(name='count')\n",
    "\n",
    "idx = result.groupby('cp')['count'].idxmax()\n",
    "\n",
    "df_result = result.loc[idx].reset_index(drop=True)\n",
    "\n"
   ]
  },
  {
   "cell_type": "code",
   "execution_count": 316,
   "metadata": {},
   "outputs": [],
   "source": [
    "merged_df = pd.merge(df_sig, df_result[['cp', 'giro']], how='left', left_on='cp7', right_on='cp')\n",
    "\n",
    "\n",
    "merged_df.drop(['cp', 'cp3','cpalf'], axis=1, inplace=True)\n"
   ]
  },
  {
   "cell_type": "code",
   "execution_count": 317,
   "metadata": {},
   "outputs": [
    {
     "name": "stdout",
     "output_type": "stream",
     "text": [
      "File saved at: C:\\Users\\1420844\\Downloads\\3100.xlsx\n"
     ]
    }
   ],
   "source": [
    "selected_columns = ['cp7', 'cp4', 'point_x', 'point_y', 'giro']\n",
    "selected_df = merged_df[selected_columns]\n",
    "\n",
    "\n",
    "downloads_path = os.path.join(os.path.expanduser(\"~\"), \"Downloads\")\n",
    "\n",
    "\n",
    "file_path = os.path.join(downloads_path, f'{codigo_prestador}.xlsx')\n",
    "selected_df.to_excel(file_path, index=False)\n",
    "\n",
    "print(f\"File saved at: {file_path}\")"
   ]
  }
 ],
 "metadata": {
  "kernelspec": {
   "display_name": "Python 3",
   "language": "python",
   "name": "python3"
  },
  "language_info": {
   "codemirror_mode": {
    "name": "ipython",
    "version": 3
   },
   "file_extension": ".py",
   "mimetype": "text/x-python",
   "name": "python",
   "nbconvert_exporter": "python",
   "pygments_lexer": "ipython3",
   "version": "3.12.1"
  }
 },
 "nbformat": 4,
 "nbformat_minor": 2
}
