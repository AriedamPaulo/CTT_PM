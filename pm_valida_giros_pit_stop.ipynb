{
 "cells": [
  {
   "cell_type": "code",
   "execution_count": 21,
   "metadata": {},
   "outputs": [],
   "source": [
    "import pandas as pd \n",
    "import os \n",
    "import numpy as np "
   ]
  },
  {
   "cell_type": "code",
   "execution_count": 22,
   "metadata": {},
   "outputs": [],
   "source": [
    "centro = '8811456' #input(\"Introduza o centro: \")"
   ]
  },
  {
   "cell_type": "code",
   "execution_count": 23,
   "metadata": {},
   "outputs": [],
   "source": [
    "\n",
    "folder_path = 'C:\\\\Users\\\\1420844\\\\Downloads\\\\dados_centros'\n",
    "\n",
    "files = [file for file in os.listdir(folder_path) if os.path.isfile(os.path.join(folder_path, file))]\n",
    "\n",
    "\n",
    "combined_df = pd.DataFrame()\n",
    "\n",
    "\n",
    "for file in files:\n",
    "    file_path = os.path.join(folder_path, file)\n",
    "    \n",
    "    \n",
    "    df = pd.read_csv(file_path, encoding=\"latin-1\", delimiter=';')\n",
    "    \n",
    "    \n",
    "    combined_df = pd.concat([combined_df, df], ignore_index=True)\n",
    "\n"
   ]
  },
  {
   "cell_type": "code",
   "execution_count": 24,
   "metadata": {},
   "outputs": [],
   "source": [
    "# -- limpeza do dataset \n",
    "df = combined_df\n",
    "df.columns=[x.lower().strip() for x in df.columns]\n",
    "df.drop_duplicates()\n",
    "df['centro'] = df['centro'].astype(str)\n",
    "df['centro'] = df['centro'].str.strip()\n",
    "df['giro'] = df['giro'].str.replace(' ', '').str.strip().str[:5]\n",
    "df['cp'] = df['cp'].str.replace(' ', '').str.strip()\n",
    "df['longitude'] = df['longitude'].str.replace('\\n', '').str.strip()\n",
    "df=df[df.latitude != '0']\n",
    "df=df[df.latitude != '0.0']\n",
    "df = df[df['latitude'] != '']\n",
    "df=df[df.cod_t_even == 'I']\n",
    "df = df[df['cp'].str.len() >= 8]"
   ]
  },
  {
   "cell_type": "code",
   "execution_count": 25,
   "metadata": {},
   "outputs": [],
   "source": [
    "df=df[df['centro']==centro]"
   ]
  },
  {
   "cell_type": "code",
   "execution_count": 26,
   "metadata": {},
   "outputs": [],
   "source": [
    "# validar os giros que devem ser usados no pit stop\n",
    "\n",
    "giro_unique_ocorrencias = df.groupby('giro')['data_criacao'].nunique().reset_index(name='N_dias')\n",
    "\n",
    "# Contar o número de ocorrências únicas por 'loptica'\n",
    "loptica_unique_ocorrencias = df.groupby('giro')['loptica'].nunique().reset_index(name='N_objetos')\n",
    "\n",
    "giros_pit_stop = pd.merge(giro_unique_ocorrencias, loptica_unique_ocorrencias, left_on='giro', right_on='giro', how='inner')"
   ]
  },
  {
   "cell_type": "code",
   "execution_count": 27,
   "metadata": {},
   "outputs": [],
   "source": [
    "\n",
    "# downloads_path = os.path.join(os.path.expanduser(\"~\"), \"Downloads\")\n",
    "\n",
    "\n",
    "# file_path = os.path.join(downloads_path, f'{centro}.xlsx')\n",
    "# giros_pit_stop.to_excel(file_path, index=False)\n",
    "\n",
    "# print(f\"File saved at: {file_path}\")"
   ]
  },
  {
   "cell_type": "code",
   "execution_count": 28,
   "metadata": {},
   "outputs": [
    {
     "data": {
      "text/html": [
       "<div>\n",
       "<style scoped>\n",
       "    .dataframe tbody tr th:only-of-type {\n",
       "        vertical-align: middle;\n",
       "    }\n",
       "\n",
       "    .dataframe tbody tr th {\n",
       "        vertical-align: top;\n",
       "    }\n",
       "\n",
       "    .dataframe thead th {\n",
       "        text-align: right;\n",
       "    }\n",
       "</style>\n",
       "<table border=\"1\" class=\"dataframe\">\n",
       "  <thead>\n",
       "    <tr style=\"text-align: right;\">\n",
       "      <th></th>\n",
       "      <th>giro</th>\n",
       "      <th>N_dias</th>\n",
       "      <th>N_objetos</th>\n",
       "    </tr>\n",
       "  </thead>\n",
       "  <tbody>\n",
       "    <tr>\n",
       "      <th>0</th>\n",
       "      <td>2405A</td>\n",
       "      <td>6</td>\n",
       "      <td>512</td>\n",
       "    </tr>\n",
       "    <tr>\n",
       "      <th>1</th>\n",
       "      <td>2405B</td>\n",
       "      <td>6</td>\n",
       "      <td>391</td>\n",
       "    </tr>\n",
       "    <tr>\n",
       "      <th>2</th>\n",
       "      <td>2405C</td>\n",
       "      <td>5</td>\n",
       "      <td>448</td>\n",
       "    </tr>\n",
       "    <tr>\n",
       "      <th>3</th>\n",
       "      <td>2405D</td>\n",
       "      <td>1</td>\n",
       "      <td>3</td>\n",
       "    </tr>\n",
       "    <tr>\n",
       "      <th>4</th>\n",
       "      <td>2410A</td>\n",
       "      <td>6</td>\n",
       "      <td>666</td>\n",
       "    </tr>\n",
       "    <tr>\n",
       "      <th>...</th>\n",
       "      <td>...</td>\n",
       "      <td>...</td>\n",
       "      <td>...</td>\n",
       "    </tr>\n",
       "    <tr>\n",
       "      <th>81</th>\n",
       "      <td>DIS05</td>\n",
       "      <td>1</td>\n",
       "      <td>1</td>\n",
       "    </tr>\n",
       "    <tr>\n",
       "      <th>82</th>\n",
       "      <td>LOCAL</td>\n",
       "      <td>5</td>\n",
       "      <td>166</td>\n",
       "    </tr>\n",
       "    <tr>\n",
       "      <th>83</th>\n",
       "      <td>LR001</td>\n",
       "      <td>1</td>\n",
       "      <td>1</td>\n",
       "    </tr>\n",
       "    <tr>\n",
       "      <th>84</th>\n",
       "      <td>REDE+</td>\n",
       "      <td>1</td>\n",
       "      <td>1</td>\n",
       "    </tr>\n",
       "    <tr>\n",
       "      <th>85</th>\n",
       "      <td>SHOP1</td>\n",
       "      <td>6</td>\n",
       "      <td>945</td>\n",
       "    </tr>\n",
       "  </tbody>\n",
       "</table>\n",
       "<p>86 rows × 3 columns</p>\n",
       "</div>"
      ],
      "text/plain": [
       "     giro  N_dias  N_objetos\n",
       "0   2405A       6        512\n",
       "1   2405B       6        391\n",
       "2   2405C       5        448\n",
       "3   2405D       1          3\n",
       "4   2410A       6        666\n",
       "..    ...     ...        ...\n",
       "81  DIS05       1          1\n",
       "82  LOCAL       5        166\n",
       "83  LR001       1          1\n",
       "84  REDE+       1          1\n",
       "85  SHOP1       6        945\n",
       "\n",
       "[86 rows x 3 columns]"
      ]
     },
     "execution_count": 28,
     "metadata": {},
     "output_type": "execute_result"
    }
   ],
   "source": [
    "giros_pit_stop"
   ]
  }
 ],
 "metadata": {
  "kernelspec": {
   "display_name": "Python 3",
   "language": "python",
   "name": "python3"
  },
  "language_info": {
   "codemirror_mode": {
    "name": "ipython",
    "version": 3
   },
   "file_extension": ".py",
   "mimetype": "text/x-python",
   "name": "python",
   "nbconvert_exporter": "python",
   "pygments_lexer": "ipython3",
   "version": "3.12.1"
  }
 },
 "nbformat": 4,
 "nbformat_minor": 2
}
